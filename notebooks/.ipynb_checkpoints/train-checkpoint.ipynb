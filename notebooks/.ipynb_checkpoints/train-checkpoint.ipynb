{
 "cells": [
  {
   "cell_type": "markdown",
   "metadata": {
    "id": "zs-nQMb-YTnR"
   },
   "source": [
    "## ATTENTION DE N'EXECUTER OS.CHDIR QU'UNE SEULE FOIS, SINON ON SE RETROUVE DANS LE MAUVAIS DOSSIER, RELANCER LE KERNEL SINON"
   ]
  },
  {
   "cell_type": "code",
   "execution_count": 2,
   "metadata": {
    "colab": {
     "base_uri": "https://localhost:8080/"
    },
    "executionInfo": {
     "elapsed": 2848,
     "status": "ok",
     "timestamp": 1610501754347,
     "user": {
      "displayName": "Cjust Pourimprimer",
      "photoUrl": "",
      "userId": "03885341023143129288"
     },
     "user_tz": -60
    },
    "id": "LoGZueJPYTnV",
    "outputId": "45822025-5fd9-4617-8da9-7ff45b79e84c"
   },
   "outputs": [
    {
     "name": "stdout",
     "output_type": "stream",
     "text": [
      "/content/drive/My Drive/ML\n"
     ]
    }
   ],
   "source": [
    "import osos.chdir('..')\n",
    "print(os.getcwd())\n",
    "from utils.path import get_n_path\n",
    "from utils.train_and_test import mean_metric_total, print_res_metric, get_batch"
   ]
  },
  {
   "cell_type": "markdown",
   "metadata": {
    "id": "4nQUz8SDYTnX"
   },
   "source": [
    "## ATTENTION DE N'EXECUTER OS.CHDIR QU'UNE SEULE FOIS, SINON ON SE RETROUVE DANS LE MAUVAIS DOSSIER, RELANCER LE KERNEL SINON"
   ]
  },
  {
   "cell_type": "code",
   "execution_count": 5,
   "metadata": {
    "colab": {
     "base_uri": "https://localhost:8080/"
    },
    "executionInfo": {
     "elapsed": 26529,
     "status": "ok",
     "timestamp": 1610501882613,
     "user": {
      "displayName": "Cjust Pourimprimer",
      "photoUrl": "",
      "userId": "03885341023143129288"
     },
     "user_tz": -60
    },
    "id": "l7pQ7IJMYTnZ",
    "outputId": "8550f4a6-be2e-4ae7-efa0-11c7438eca43"
   },
   "outputs": [
    {
     "name": "stdout",
     "output_type": "stream",
     "text": [
      "Training model2....\n",
      "Epoch 1/5\n",
      "6/6 [==============================] - 14s 2s/step - loss: 0.0050 - mean_absolute_error: 0.0523 - val_loss: 0.0049 - val_mean_absolute_error: 0.0517\n",
      "\n",
      "Epoch 00001: val_loss improved from inf to 0.00493, saving model to models/model2_n_to_ori_-3dB.h5\n",
      "Epoch 2/5\n",
      "6/6 [==============================] - 2s 247ms/step - loss: 0.0040 - mean_absolute_error: 0.0480 - val_loss: 0.0047 - val_mean_absolute_error: 0.0514\n",
      "\n",
      "Epoch 00002: val_loss improved from 0.00493 to 0.00475, saving model to models/model2_n_to_ori_-3dB.h5\n",
      "Epoch 3/5\n",
      "6/6 [==============================] - 2s 251ms/step - loss: 0.0034 - mean_absolute_error: 0.0435 - val_loss: 0.0042 - val_mean_absolute_error: 0.0495\n",
      "\n",
      "Epoch 00003: val_loss improved from 0.00475 to 0.00424, saving model to models/model2_n_to_ori_-3dB.h5\n",
      "Epoch 4/5\n",
      "6/6 [==============================] - 2s 288ms/step - loss: 0.0032 - mean_absolute_error: 0.0426 - val_loss: 0.0038 - val_mean_absolute_error: 0.0467\n",
      "\n",
      "Epoch 00004: val_loss improved from 0.00424 to 0.00383, saving model to models/model2_n_to_ori_-3dB.h5\n",
      "Epoch 5/5\n",
      "6/6 [==============================] - 2s 253ms/step - loss: 0.0030 - mean_absolute_error: 0.0413 - val_loss: 0.0028 - val_mean_absolute_error: 0.0374\n",
      "\n",
      "Epoch 00005: val_loss improved from 0.00383 to 0.00281, saving model to models/model2_n_to_ori_-3dB.h5\n"
     ]
    }
   ],
   "source": [
    "from utils.train_and_test import *\n",
    "\n",
    "dict_all = {'output': 'ori', # Type de sortie (\"mask\" ou \"ori\")\n",
    "        'SNR':'-3dB', #Choisir son snr (il faut au préalable avoir bruité les sons pour des SNR donné avec gen_noise.py)\n",
    "        'epoch': 5, \n",
    "        'net':'model2', # modèle choisi ('unet', 'model1' ou 'model2')\n",
    "        'lim': 30, #Le nombre de fichier sur lequel faire l'entrainement. Si sur None on prend la totalité\n",
    "        'SNR_load': '-8dB', #Le modèle à charger, ici \"model2_n_to_ori_-8dB.h5\"\n",
    "        'masktype': None, # Type de masque ('Soft' ou 'Binary', ou None si on choisi la méthode unet)\n",
    "        'phase': False #Ne pas toucher\n",
    "        }\n",
    "\n",
    "#ATTENTION - Lancer l'entrainement signifie sauvegarder le modèle entrainé. Ici \"model2_n_to_ori_-3dB.h5\". \n",
    "#Si vous entrainez le modèle avec un SNR de -8dB, alors \n",
    "#il ecrasera le modèle \"model2_n_to_ori_-3dB.h5\" deja présent dant le dossier \"models/\"\n",
    "\n",
    "train(**dict_all)\n",
    "\n",
    "# # #Si entrainnement sur google colab, décommenter la suite:\n",
    "\n",
    "# with tf.device('/device:GPU:0'):\n",
    "\n",
    "#     train(**dict_all)\n"
   ]
  }
 ],
 "metadata": {
  "accelerator": "GPU",
  "colab": {
   "collapsed_sections": [],
   "name": "train.ipynb",
   "provenance": []
  },
  "kernelspec": {
   "display_name": "Python 3",
   "language": "python",
   "name": "python3"
  },
  "language_info": {
   "codemirror_mode": {
    "name": "ipython",
    "version": 3
   },
   "file_extension": ".py",
   "mimetype": "text/x-python",
   "name": "python",
   "nbconvert_exporter": "python",
   "pygments_lexer": "ipython3",
   "version": "3.6.10"
  }
 },
 "nbformat": 4,
 "nbformat_minor": 1
}
