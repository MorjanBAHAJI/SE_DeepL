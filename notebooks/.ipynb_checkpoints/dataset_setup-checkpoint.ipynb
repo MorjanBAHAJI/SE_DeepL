{
 "cells": [
  {
   "cell_type": "markdown",
   "metadata": {},
   "source": [
    "# DATASET SETUP"
   ]
  },
  {
   "cell_type": "markdown",
   "metadata": {},
   "source": [
    "## Setting up train and test folder from initial dataset"
   ]
  },
  {
   "cell_type": "code",
   "execution_count": 1,
   "metadata": {},
   "outputs": [],
   "source": [
    "a = '/speech_TEST/TIMIT_TEST/'\n",
    "b = '/speech_TRAIN_1/TIMIT_TRAIN_1/'\n",
    "c = '/speech_TRAIN_2/TIMIT_TRAIN_2/'"
   ]
  },
  {
   "cell_type": "code",
   "execution_count": 2,
   "metadata": {},
   "outputs": [],
   "source": [
    "import os\n",
    "import fnmatch\n",
    "import glob\n",
    "import shutil  \n",
    "\n",
    "def GetWAV(l_path,root='/home/morjan/Desktop/Project/SE_Deep_code'):\n",
    "\n",
    "    for element in l_path:\n",
    "        PATH_or = root\n",
    "        l_path = []\n",
    "        WAV = []\n",
    "\n",
    "        #for element in PATH_L\n",
    "        os.chdir(os.getcwd() + element)\n",
    "        #On récupère les chemins des dossiers qui contiennent les .WAV\n",
    "        Dn = next(os.walk(os.getcwd()))[1]\n",
    "        for name in Dn:\n",
    "            os.chdir(os.getcwd()+'/'+name)\n",
    "            sub = next(os.walk(os.getcwd()))[1]\n",
    "            for name2 in sub:\n",
    "\n",
    "                os.chdir(os.getcwd()+'/'+name2)\n",
    "                l_path.append(os.getcwd())\n",
    "                os.chdir('..')\n",
    "            os.chdir('..')\n",
    "\n",
    "        #On récupère les chemins des fichiers .wav\n",
    "        for son in l_path:\n",
    "            os.chdir(son)\n",
    "            myFilesPaths = glob.glob('*.WAV')\n",
    "            for file in myFilesPaths:\n",
    "                WAV.append(son + '/' + file)\n",
    "\n",
    "        os.chdir(root)\n",
    "        \n",
    "    return WAV\n"
   ]
  },
  {
   "cell_type": "code",
   "execution_count": 3,
   "metadata": {},
   "outputs": [
    {
     "name": "stdout",
     "output_type": "stream",
     "text": [
      "Nombre de sons d'en entrainement: 2040\n",
      "Nombre de sons de test: 1680\n"
     ]
    }
   ],
   "source": [
    "root='/home/morjan/Desktop/Project/SE_Deep_code/'\n",
    "WAV_Train = GetWAV(l_path=[b,c],root=root)\n",
    "WAV_Test = GetWAV(l_path=[a],root=root)\n",
    "print(f'Nombre de sons d\\'entrainement: {len(WAV_Train)}\\nNombre de sons de test: {len(WAV_Test)}')"
   ]
  },
  {
   "cell_type": "code",
   "execution_count": 4,
   "metadata": {},
   "outputs": [],
   "source": [
    "#On copie les fichiers en les renommant pour eviter de suppr les doublons\n",
    "PATH_Train_WAV=root\n",
    "PATH_Test_WAV=root\n",
    "train_test = ['Train/Ori/','Test/Ori/']\n",
    "for i, sons in enumerate(WAV_Train + WAV_Test):\n",
    "    shutil.copyfile(sons, os.path.join(root + train_test[i//(len(WAV_Train)-1)],str(i)+'.WAV'))\n"
   ]
  },
  {
   "cell_type": "code",
   "execution_count": 8,
   "metadata": {
    "scrolled": true
   },
   "outputs": [
    {
     "name": "stdout",
     "output_type": "stream",
     "text": [
      "Nombre de sons d'en entrainement: 2040\n",
      "Nombre de sons de test: 1680\n"
     ]
    }
   ],
   "source": [
    "#Verification du nb de fichier à root + train ou test\n",
    "train = next(os.walk(os.path.join(root+train_test[0])))[2]\n",
    "test = next(os.walk(os.path.join(root+train_test[1])))[2]\n",
    "\n",
    "print(f'Nombre de sons d\\'en entrainement: {len(train)}\\nNombre de sons de test: {len(test)}')"
   ]
  },
  {
   "cell_type": "markdown",
   "metadata": {},
   "source": [
    "# Cut all files to the mean"
   ]
  },
  {
   "cell_type": "code",
   "execution_count": null,
   "metadata": {},
   "outputs": [],
   "source": [
    "# N = 49152\n",
    "# for names in l_sound:\n",
    "#     _, y = scipy.io.wavfile.read(names)\n",
    "#     y_n = np.zeros(shape=(N,))    \n",
    "#     if len(y)>len(y_n):\n",
    "#         y_n[0:len(y)]=y[0:len(y_n)]\n",
    "#     else:\n",
    "#         y_n[0:len(y)]=y\n",
    "#     y_n= y_n.astype(np.int16)\n",
    "#     scipy.io.wavfile.write(names,16000,y_n)"
   ]
  }
 ],
 "metadata": {
  "kernelspec": {
   "display_name": "ml",
   "language": "python",
   "name": "ml"
  },
  "language_info": {
   "codemirror_mode": {
    "name": "ipython",
    "version": 3
   },
   "file_extension": ".py",
   "mimetype": "text/x-python",
   "name": "python",
   "nbconvert_exporter": "python",
   "pygments_lexer": "ipython3",
   "version": "3.6.10"
  }
 },
 "nbformat": 4,
 "nbformat_minor": 4
}
