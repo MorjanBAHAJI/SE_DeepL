{
 "cells": [
  {
   "cell_type": "markdown",
   "metadata": {},
   "source": [
    "## ATTENTION DE N'EXECUTER OS.CHDIR QU'UNE SEULE FOIS, SINON ON SE RETROUVE DANS LE MAUVAIS DOSSIER, RELANCER LE KERNEL SINON"
   ]
  },
  {
   "cell_type": "code",
   "execution_count": 1,
   "metadata": {
    "scrolled": true
   },
   "outputs": [
    {
     "name": "stdout",
     "output_type": "stream",
     "text": [
      "/home/morjan/Desktop/Project/SE_Deep_f/SE_Deep\n"
     ]
    },
    {
     "name": "stderr",
     "output_type": "stream",
     "text": [
      "Using TensorFlow backend.\n"
     ]
    }
   ],
   "source": [
    "import os\n",
    "os.chdir('..')\n",
    "print(os.getcwd())\n",
    "from utils.path import get_n_path\n",
    "from utils.train_and_test import mean_metric_total, print_res_metric, get_batch"
   ]
  },
  {
   "cell_type": "markdown",
   "metadata": {},
   "source": [
    "## ATTENTION DE N'EXECUTER OS.CHDIR QU'UNE SEULE FOIS, SINON ON SE RETROUVE DANS LE MAUVAIS DOSSIER, RELANCER LE KERNEL SINON"
   ]
  },
  {
   "cell_type": "markdown",
   "metadata": {},
   "source": [
    "# Evaluate denoising with model2 and Soft mask"
   ]
  },
  {
   "cell_type": "code",
   "execution_count": 2,
   "metadata": {},
   "outputs": [
    {
     "name": "stderr",
     "output_type": "stream",
     "text": [
      "\r",
      "  0%|          | 0/1 [00:00<?, ?it/s]"
     ]
    },
    {
     "name": "stdout",
     "output_type": "stream",
     "text": [
      "[['/home/morjan/Desktop/Project/SE_Deep_f/SE_Deep/train/3dB/noisy/1542_n.wav', '/home/morjan/Desktop/Project/SE_Deep_f/SE_Deep/train/3dB/noisy/703_n.wav']]\n",
      "For all 1 batches...\n"
     ]
    },
    {
     "name": "stderr",
     "output_type": "stream",
     "text": [
      "100%|██████████| 1/1 [00:28<00:00, 28.23s/it]"
     ]
    },
    {
     "name": "stdout",
     "output_type": "stream",
     "text": [
      "For unet and an output Soft mask with an input SNR of 3dB,\n",
      "--->The output mean Gain in SNR (after denoising) is : 11.0\n",
      "--->The output mean MAE (after denoising) is : 0.00016\n",
      "--->The output mean MSE (after denoising) is : 0.0075\n",
      "\n"
     ]
    },
    {
     "name": "stderr",
     "output_type": "stream",
     "text": [
      "\n"
     ]
    }
   ],
   "source": [
    "from utils.train_and_test import mean_metric_total, print_res_metric, get_batch\n",
    "from utils.path import get_n_path\n",
    "import tensorflow as tf\n",
    "\n",
    "SNR_= '3dB' #Choisir son snr (il faut au préalable avoir bruité les sons pour des SNR donné avec gen_noise.py)\n",
    "SNR_load = '-8dB' #le modèle qu'on souhaite charger (par défaut -8dB car c'est le plus aboutit)\n",
    "batch_ = 2 \n",
    "lim = 2 #lim doit être plus grand ou égal à batch\n",
    "#lim est le nombre de fichiers au total, qui vont être reparti par batch \n",
    "masktype='Soft' # Type de masque ('Soft' ou 'Binary', ou None si on choisi la méthode unet)\n",
    "output = 'mask' # Type de sortie (\"mask\" ou \"ori\")\n",
    "model = 'unet' # modèle choisi ('unet', 'model1' ou 'model2')\n",
    "mode = 'train' #utiliser l'ensemble de test ou de train\n",
    "\n",
    "#Ne pas toucher à la suite\n",
    "l_noisy = get_batch(lim,batch_,SNR_, mode)\n",
    "print(l_noisy)\n",
    "SNR_final, MAE_final, MSE_final = mean_metric_total(l_noisy,masktype,\n",
    "                                                  SNR_,SNR_load,output,model,mode)\n",
    "print_res_metric(SNR_final,MSE_final,MAE_final,model, masktype,output,SNR_)"
   ]
  },
  {
   "cell_type": "markdown",
   "metadata": {},
   "source": [
    "# Evaluate denoising with unet and ori"
   ]
  },
  {
   "cell_type": "code",
   "execution_count": 6,
   "metadata": {},
   "outputs": [
    {
     "name": "stderr",
     "output_type": "stream",
     "text": [
      "\r",
      "  0%|          | 0/1 [00:00<?, ?it/s]"
     ]
    },
    {
     "name": "stdout",
     "output_type": "stream",
     "text": [
      "For all 1 batches...\n"
     ]
    },
    {
     "name": "stderr",
     "output_type": "stream",
     "text": [
      "100%|██████████| 1/1 [00:09<00:00,  9.25s/it]"
     ]
    },
    {
     "name": "stdout",
     "output_type": "stream",
     "text": [
      "For unet and an output ori with an input SNR of 3dB,\n",
      "--->The output mean Gain in SNR (after denoising) is : 9.7\n",
      "--->The output mean MAE (after denoising) is : 0.00018\n",
      "--->The output mean MSE (after denoising) is : 0.00762\n",
      "\n"
     ]
    },
    {
     "name": "stderr",
     "output_type": "stream",
     "text": [
      "\n"
     ]
    }
   ],
   "source": [
    "from utils.train_and_test import mean_metric_total, print_res_metric, get_batch\n",
    "from utils.path import get_n_path\n",
    "import tensorflow as tf\n",
    "\n",
    "SNR_= '3dB' #Choisir son snr (il faut au préalable avoir bruité les sons pour des SNR donné avec gen_noise.py)\n",
    "SNR_load = '-8dB' #le modèle qu'on souhaite charger (par défaut -8dB car c'est le plus aboutit)\n",
    "batch_ = 2\n",
    "lim = 2\n",
    "#lim est le nombre de fichiers au total, qui vont être reparti par batch \n",
    "masktype=None  # Type de masque ('Soft' ou 'Binary', ou None si on choisi la méthode unet)\n",
    "output = 'ori' # Type de sortie (\"mask\" ou \"ori\")\n",
    "model = 'unet' # modèle choisi ('unet', 'model1' ou 'model2')\n",
    "\n",
    "#Ne pas toucher à la suite\n",
    "l_noisy = get_batch(lim,batch_,SNR_, 'test')\n",
    "SNR_final, MAE_final, MSE_final = mean_metric_total(l_noisy,masktype,\n",
    "                                                  SNR_,SNR_load,output,model,'test')\n",
    "print_res_metric(SNR_final,MSE_final,MAE_final,model, masktype,output,SNR_)"
   ]
  }
 ],
 "metadata": {
  "accelerator": "GPU",
  "colab": {
   "collapsed_sections": [],
   "name": "noisegen_train_colab.ipynb",
   "provenance": []
  },
  "kernelspec": {
   "display_name": "ml",
   "language": "python",
   "name": "ml"
  },
  "language_info": {
   "codemirror_mode": {
    "name": "ipython",
    "version": 3
   },
   "file_extension": ".py",
   "mimetype": "text/x-python",
   "name": "python",
   "nbconvert_exporter": "python",
   "pygments_lexer": "ipython3",
   "version": "3.6.10"
  }
 },
 "nbformat": 4,
 "nbformat_minor": 1
}
